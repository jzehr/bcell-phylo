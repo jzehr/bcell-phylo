{
 "cells": [
  {
   "cell_type": "markdown",
   "metadata": {},
   "source": [
    "# Exploring BioPython's IMGT API"
   ]
  },
  {
   "cell_type": "code",
   "execution_count": 1,
   "metadata": {},
   "outputs": [],
   "source": [
    "from Bio import SeqIO"
   ]
  },
  {
   "cell_type": "markdown",
   "metadata": {},
   "source": [
    "### Establish our file, and read it in with the .InsdcIO.ImgtIterator. This takes a handle "
   ]
  },
  {
   "cell_type": "code",
   "execution_count": 2,
   "metadata": {},
   "outputs": [
    {
     "name": "stderr",
     "output_type": "stream",
     "text": [
      "/Users/jordanzehr/anaconda3/lib/python3.6/site-packages/Bio/GenBank/__init__.py:1249: BiopythonParserWarning: Expected sequence length 412, found 392 (L09076.2).\n",
      "  BiopythonParserWarning)\n",
      "/Users/jordanzehr/anaconda3/lib/python3.6/site-packages/Bio/GenBank/__init__.py:1143: BiopythonParserWarning: Couldn't parse feature location: 'join(1099214721884:12850..66864,1099214721885:1..14211,1099214721886:1..31850,1099214283347:1..2179,1099214721887:1..12144,1099214721888:1..17129,1099214721889:1..3822,complement(1099214585886:1..3460),1099213939902:1..1455,1099214721890:1..2784,complement(1099214179249:1..4081),complement(1099214619290:1..3493),complement(1099214069890:1..1861),1099214720216:1..6211,1099214720217:1..11898,1099214720218:1..23024,1099214720219:1..15659,complement(1099214394054:1..2234),1099214347319:1..847,complement(1099214111361:1..3061),1099214292340:1..1697,1099213999675:1..4305,1099214720220:1..25087,1099214720221:1..29813,1099214682882:1..4596,1099214720222:1..5591,1099214720223:1..3263,1099214720224:1..4924,1099214720225:1..24687,complement(1099214625674:1..17263),complement(1099214614202:1..4528),1099214298169:1..2770,complement(1099214625673:1..6794),complement(1099214625672:1..7508),complement(1099214625671:1..9579),1099214709457:1..3193)'\n",
      "  % location_line))\n",
      "/Users/jordanzehr/anaconda3/lib/python3.6/site-packages/Bio/GenBank/__init__.py:1143: BiopythonParserWarning: Couldn't parse feature location: 'join(complement(259304..259349),complement(258888..259200),complement(255171..255179),complement(92895..92917),complement(61793..61800),complement(42392..42428),1099214720223:613..906,1099214720223:1298..1351,1099214720223:1470..1799,1099214720223:1897..2211,1099214720224:204..334,1099214720224:2532..3214,1099214709457:2387..3193)'\n",
      "  % location_line))\n",
      "/Users/jordanzehr/anaconda3/lib/python3.6/site-packages/Bio/GenBank/__init__.py:1143: BiopythonParserWarning: Couldn't parse feature location: 'join(complement(259304..259349),complement(258888..259200),complement(255171..255179),complement(92895..92917),complement(61793..61800),complement(42392..42428),1099214720223:613..906,1099214720223:1298..1351,1099214720223:1470..1799,1099214720223:1897..2211,1099214720224:204..334,1099214720224:2532..2615)'\n",
      "  % location_line))\n",
      "/Users/jordanzehr/anaconda3/lib/python3.6/site-packages/Bio/GenBank/__init__.py:1143: BiopythonParserWarning: Couldn't parse feature location: 'join(complement(259304..259349),complement(259049..259200),complement(245835..246012),complement(71504..71513),complement(42184..42242),1099214720223:613..906,1099214720223:1298..1351,1099214720223:1470..1799,1099214720223:1897..2353)'\n",
      "  % location_line))\n",
      "/Users/jordanzehr/anaconda3/lib/python3.6/site-packages/Bio/GenBank/__init__.py:1143: BiopythonParserWarning: Couldn't parse feature location: 'join(complement(259304..259349),complement(259049..259200),complement(245835..246012),complement(71504..71513),complement(42184..42242),1099214720223:613..906,1099214720223:1298..1351,1099214720223:1470..1799,1099214720223:1897..2219)'\n",
      "  % location_line))\n",
      "/Users/jordanzehr/anaconda3/lib/python3.6/site-packages/Bio/GenBank/__init__.py:1143: BiopythonParserWarning: Couldn't parse feature location: 'join(complement(259304..259349),complement(258888..259200),complement(85565..85580),complement(42392..42428),1099214720223:613..906,1099214720223:1298..1351,1099214720223:1470..1799,1099214720223:1897..2353)'\n",
      "  % location_line))\n",
      "/Users/jordanzehr/anaconda3/lib/python3.6/site-packages/Bio/GenBank/__init__.py:1143: BiopythonParserWarning: Couldn't parse feature location: 'join(complement(259304..259349),complement(258888..259200),complement(85565..85580),complement(42392..42428),1099214720223:613..906,1099214720223:1298..1351,1099214720223:1470..1799,1099214720223:1897..2219)'\n",
      "  % location_line))\n",
      "/Users/jordanzehr/anaconda3/lib/python3.6/site-packages/Bio/GenBank/__init__.py:1143: BiopythonParserWarning: Couldn't parse feature location: 'join(complement(259304..259349),complement(258888..259200),complement(253231..253247),complement(132247..132263),complement(42392..42428),1099214720223:613..906,1099214720223:1298..1351,1099214720223:1470..1799,1099214720223:1897..2352)'\n",
      "  % location_line))\n",
      "/Users/jordanzehr/anaconda3/lib/python3.6/site-packages/Bio/GenBank/__init__.py:1143: BiopythonParserWarning: Couldn't parse feature location: 'join(complement(259304..259349),complement(258888..259200),complement(253231..253247),complement(132247..132263),complement(42392..42428),1099214720223:613..906,1099214720223:1298..1351,1099214720223:1470..1799,1099214720223:1897..2219)'\n",
      "  % location_line))\n",
      "/Users/jordanzehr/anaconda3/lib/python3.6/site-packages/Bio/GenBank/__init__.py:1143: BiopythonParserWarning: Couldn't parse feature location: 'join(complement(259304..259349),complement(258888..259200),complement(171461..171469),complement(42184..42242),1099214720223:613..906,1099214720223:1298..1351,1099214720223:1470..1799,1099214720223:1897..2352)'\n",
      "  % location_line))\n",
      "/Users/jordanzehr/anaconda3/lib/python3.6/site-packages/Bio/GenBank/__init__.py:1143: BiopythonParserWarning: Couldn't parse feature location: 'join(complement(259304..259349),complement(258888..259200),complement(171461..171469),complement(42184..42242),1099214720223:613..906,1099214720223:1298..1351,1099214720223:1470..1799,1099214720223:1897..2219)'\n",
      "  % location_line))\n",
      "/Users/jordanzehr/anaconda3/lib/python3.6/site-packages/Bio/GenBank/__init__.py:1143: BiopythonParserWarning: Couldn't parse feature location: 'join(complement(259304..259349),complement(258888..259200),complement(123857..123869),complement(42392..42428),1099214720223:613..906,1099214720223:1298..1351,1099214720223:1470..1799,1099214720223:1897..2352)'\n",
      "  % location_line))\n",
      "/Users/jordanzehr/anaconda3/lib/python3.6/site-packages/Bio/GenBank/__init__.py:1143: BiopythonParserWarning: Couldn't parse feature location: 'join(complement(259304..259349),complement(258888..259200),complement(123857..123869),complement(42392..42428),1099214720223:613..906,1099214720223:1298..1351,1099214720223:1470..1799,1099214720223:1897..2219)'\n",
      "  % location_line))\n",
      "/Users/jordanzehr/anaconda3/lib/python3.6/site-packages/Bio/GenBank/__init__.py:1143: BiopythonParserWarning: Couldn't parse feature location: 'join(complement(149258..149591),complement(41672..41737),1099214720223:613..906,1099214720223:1298..1351,1099214720223:1470..1799,1099214720223:1897..2345)'\n",
      "  % location_line))\n",
      "/Users/jordanzehr/anaconda3/lib/python3.6/site-packages/Bio/GenBank/__init__.py:1143: BiopythonParserWarning: Couldn't parse feature location: 'join(complement(149258..149591),complement(41672..41737),1099214720223:613..906,1099214720223:1298..1351,1099214720223:1470..1799,1099214720223:1897..2219)'\n",
      "  % location_line))\n",
      "/Users/jordanzehr/anaconda3/lib/python3.6/site-packages/Bio/GenBank/__init__.py:1143: BiopythonParserWarning: Couldn't parse feature location: 'join(complement(259304..259349),complement(258888..259200),complement(70940..70947),complement(40312..40386),1099214720223:613..906,1099214720223:1298..1351,1099214720223:1470..1799,1099214720223:1897..2344)'\n",
      "  % location_line))\n",
      "/Users/jordanzehr/anaconda3/lib/python3.6/site-packages/Bio/GenBank/__init__.py:1143: BiopythonParserWarning: Couldn't parse feature location: 'join(complement(259304..259349),complement(258888..259200),complement(70940..70947),complement(40312..40386),1099214720223:613..906,1099214720223:1298..1351,1099214720223:1470..1799,1099214720223:1897..2219)'\n",
      "  % location_line))\n",
      "/Users/jordanzehr/anaconda3/lib/python3.6/site-packages/Bio/GenBank/__init__.py:1143: BiopythonParserWarning: Couldn't parse feature location: 'join(complement(259304..259349),complement(258888..259200),complement(182299..182302),complement(157669..157692),complement(42392..42428),1099214720223:613..906,1099214720223:1298..1351,1099214720223:1470..1799,1099214720223:1897..2344)'\n",
      "  % location_line))\n",
      "/Users/jordanzehr/anaconda3/lib/python3.6/site-packages/Bio/GenBank/__init__.py:1143: BiopythonParserWarning: Couldn't parse feature location: 'join(complement(259304..259349),complement(258888..259200),complement(182299..182302),complement(157669..157692),complement(42392..42428),1099214720223:613..906,1099214720223:1298..1351,1099214720223:1470..1799,1099214720223:1897..2219)'\n",
      "  % location_line))\n",
      "/Users/jordanzehr/anaconda3/lib/python3.6/site-packages/Bio/GenBank/__init__.py:1143: BiopythonParserWarning: Couldn't parse feature location: '1099214720223:613..906'\n",
      "  % location_line))\n",
      "/Users/jordanzehr/anaconda3/lib/python3.6/site-packages/Bio/GenBank/__init__.py:1143: BiopythonParserWarning: Couldn't parse feature location: '1099214720223:1298..1351'\n",
      "  % location_line))\n",
      "/Users/jordanzehr/anaconda3/lib/python3.6/site-packages/Bio/GenBank/__init__.py:1143: BiopythonParserWarning: Couldn't parse feature location: '1099214720223:1897..2345'\n",
      "  % location_line))\n",
      "/Users/jordanzehr/anaconda3/lib/python3.6/site-packages/Bio/GenBank/__init__.py:1143: BiopythonParserWarning: Couldn't parse feature location: '1099214720224:204..334'\n",
      "  % location_line))\n",
      "/Users/jordanzehr/anaconda3/lib/python3.6/site-packages/Bio/GenBank/__init__.py:1143: BiopythonParserWarning: Couldn't parse feature location: '1099214720223:1897..2211'\n",
      "  % location_line))\n",
      "/Users/jordanzehr/anaconda3/lib/python3.6/site-packages/Bio/GenBank/__init__.py:1143: BiopythonParserWarning: Couldn't parse feature location: '1099214720223:1470..1799'\n",
      "  % location_line))\n",
      "/Users/jordanzehr/anaconda3/lib/python3.6/site-packages/Bio/GenBank/__init__.py:1143: BiopythonParserWarning: Couldn't parse feature location: '1099214720223:1897..2352'\n",
      "  % location_line))\n",
      "/Users/jordanzehr/anaconda3/lib/python3.6/site-packages/Bio/GenBank/__init__.py:1143: BiopythonParserWarning: Couldn't parse feature location: '1099214709457:2387..3193'\n",
      "  % location_line))\n",
      "/Users/jordanzehr/anaconda3/lib/python3.6/site-packages/Bio/GenBank/__init__.py:1143: BiopythonParserWarning: Couldn't parse feature location: '1099214720224:2532..3214'\n",
      "  % location_line))\n",
      "/Users/jordanzehr/anaconda3/lib/python3.6/site-packages/Bio/GenBank/__init__.py:1143: BiopythonParserWarning: Couldn't parse feature location: '1099214720223:1897..2353'\n",
      "  % location_line))\n",
      "/Users/jordanzehr/anaconda3/lib/python3.6/site-packages/Bio/GenBank/__init__.py:1143: BiopythonParserWarning: Couldn't parse feature location: '1099214720223:1897..2344'\n",
      "  % location_line))\n",
      "/Users/jordanzehr/anaconda3/lib/python3.6/site-packages/Bio/GenBank/__init__.py:1143: BiopythonParserWarning: Couldn't parse feature location: 'join(1099214720219:8192..15659,complement(1099214394054:1..2234),1099214347319:1..847,complement(1099214111361:1..3061),1099214292340:1..1697,1099213999675:1..4305,1099214720220:1..25087,1099214720221:1..29813,1099214682882:1..4596,1099214720222:1..5591,1099214720223:1..2167)'\n",
      "  % location_line))\n",
      "/Users/jordanzehr/anaconda3/lib/python3.6/site-packages/Bio/GenBank/__init__.py:1143: BiopythonParserWarning: Couldn't parse feature location: 'join(complement(41343..41383),1099214720223:613..906,1099214720223:1298..1351,1099214720223:1470..1799,1099214720223:1897..2167)'\n",
      "  % location_line))\n",
      "/Users/jordanzehr/anaconda3/lib/python3.6/site-packages/Bio/GenBank/__init__.py:1143: BiopythonParserWarning: Couldn't parse feature location: 'join(1099214720223:1532..1799,1099214720223:1897..2165)'\n",
      "  % location_line))\n",
      "/Users/jordanzehr/anaconda3/lib/python3.6/site-packages/Bio/GenBank/__init__.py:1143: BiopythonParserWarning: Couldn't parse feature location: '1099214720223:1897..2167'\n",
      "  % location_line))\n",
      "/Users/jordanzehr/anaconda3/lib/python3.6/site-packages/Bio/GenBank/__init__.py:1143: BiopythonParserWarning: Couldn't parse feature location: 'join(complement(14189..14386),complement(13834..13945),1099214720220:20523..20674,1099214720220:20751..20831,1099214720220:21561..21782)'\n",
      "  % location_line))\n",
      "/Users/jordanzehr/anaconda3/lib/python3.6/site-packages/Bio/GenBank/__init__.py:1143: BiopythonParserWarning: Couldn't parse feature location: 'join(1099214721884:12850..66864,1099214721885:1..14211,1099214721886:1..31850,1099214283347:1..2179,1099214721887:1..12144,1099214721888:1..17129,1099214721889:1..3822,complement(1099214585886:1..3460),1099213939902:1..1455,1099214721890:1..2784,complement(1099214179249:1..4081),complement(1099214619290:1..3493),complement(1099214069890:1..1861),1099214720216:1..6211,1099214720217:1..11898,1099214720218:1..23024,1099214720219:1..15659,complement(1099214394054:1..2234),1099214347319:1..847,complement(1099214111361:1..3061),1099214292340:1..1697,1099213999675:1..4305,1099214720220:1..25087,1099214720221:1..29813,1099214682882:1..4596,1099214720222:1..5591,1099214720223:1..3263,1099214720224:1..2612)'\n",
      "  % location_line))\n",
      "/Users/jordanzehr/anaconda3/lib/python3.6/site-packages/Bio/GenBank/__init__.py:1143: BiopythonParserWarning: Couldn't parse feature location: 'join(1099214721884:12850..66864,1099214721885:1..14211,1099214721886:1..31850,1099214283347:1..2179,1099214721887:1..12144,1099214721888:1..17129,1099214721889:1..3822,complement(1099214585886:1..3460),1099213939902:1..1455,1099214721890:1..2784,complement(1099214179249:1..4081),complement(1099214619290:1..3493),complement(1099214069890:1..1861),1099214720216:1..6211,1099214720217:1..11898,1099214720218:1..23024,1099214720219:1..15659,complement(1099214394054:1..2234),1099214347319:1..847,complement(1099214111361:1..3061),1099214292340:1..1697,1099213999675:1..4305,1099214720220:1..25087,1099214720221:1..29813,1099214682882:1..4596,1099214720222:1..5591,1099214720223:1..2216)'\n",
      "  % location_line))\n",
      "/Users/jordanzehr/anaconda3/lib/python3.6/site-packages/Bio/GenBank/__init__.py:1143: BiopythonParserWarning: Couldn't parse feature location: 'join(1099214721887:3291..12144,1099214721888:1..17129,1099214721889:1..3822,complement(1099214585886:1..3460),1099213939902:1..1455,1099214721890:1..2784,complement(1099214179249:1..4081),complement(1099214619290:1..3493),complement(1099214069890:1..1861),1099214720216:1..6211,1099214720217:1..11898,1099214720218:1..23024,1099214720219:1..15659,complement(1099214394054:1..2234),1099214347319:1..847,complement(1099214111361:1..3061),1099214292340:1..1697,1099213999675:1..4305,1099214720220:1..25087,1099214720221:1..29813,1099214682882:1..4596,1099214720222:1..5591,1099214720223:1..2216)'\n",
      "  % location_line))\n",
      "/Users/jordanzehr/anaconda3/lib/python3.6/site-packages/Bio/GenBank/__init__.py:1143: BiopythonParserWarning: Couldn't parse feature location: 'join(1099214715923:20524..21085,1099214711300:1..18262,1099214614255:1..2406,complement(1099214475936:1..1166),1099214333219:1..2313,1099214721883:1..11454,1099214721884:1..66864,1099214721885:1..14211,1099214721886:1..31850,1099214283347:1..2179,1099214721887:1..12144,1099214721888:1..17129,1099214721889:1..3822,complement(1099214585886:1..3460),1099213939902:1..1455,1099214721890:1..2784,complement(1099214179249:1..4081),complement(1099214619290:1..3493),complement(1099214069890:1..1861),1099214720216:1..6211,1099214720217:1..11898,1099214720218:1..23024,1099214720219:1..15659,complement(1099214394054:1..2234),1099214347319:1..847,complement(1099214111361:1..3061),1099214292340:1..1697,1099213999675:1..4305,1099214720220:1..25087,1099214720221:1..29813,1099214682882:1..4596,1099214720222:1..5591,1099214720223:1..3263,1099214720224:1..4924,1099214720225:1..24687,complement(1099214625674:1..17263),complement(1099214614202:1..4528),1099214298169:1..2770,complement(1099214625673:1..6794),complement(1099214625672:1..7508),complement(1099214625671:1..9579),1099214709457:1..3193)'\n",
      "  % location_line))\n",
      "/Users/jordanzehr/anaconda3/lib/python3.6/site-packages/Bio/GenBank/__init__.py:1143: BiopythonParserWarning: Couldn't parse feature location: 'join(1099214715923:20474..21085,1099214711300:1..18262,1099214614255:1..2406,complement(1099214475936:1..1166),1099214333219:1..2313,1099214721883:1..11454,1099214721884:1..66864,1099214721885:1..14211,1099214721886:1..31850,1099214283347:1..2179,1099214721887:1..12144,1099214721888:1..17129,1099214721889:1..3822,complement(1099214585886:1..3460),1099213939902:1..1455,1099214721890:1..2784,complement(1099214179249:1..4081),complement(1099214619290:1..3493),complement(1099214069890:1..1861),1099214720216:1..6211,1099214720217:1..11898,1099214720218:1..23024,1099214720219:1..15659,complement(1099214394054:1..2234),1099214347319:1..847,complement(1099214111361:1..3061),1099214292340:1..1697,1099213999675:1..4305,1099214720220:1..25087,1099214720221:1..29813,1099214682882:1..4596,1099214720222:1..5591,1099214720223:1..2353)'\n",
      "  % location_line))\n",
      "/Users/jordanzehr/anaconda3/lib/python3.6/site-packages/Bio/GenBank/__init__.py:1143: BiopythonParserWarning: Couldn't parse feature location: 'join(1099214599631:11858..19843,1099214599632:1..60913,1099214599633:1..3933,1099214599634:1..20913,1099214683737:1..1826,1099214599635:1..10256,1099214599636:1..6014,1099214599637:1..52084,1099214599638:1..13019,1099214599639:1..7115,1099214599640:1..29777,complement(1099214305503:1..1900),complement(1099214580189:1..5751),1099213934862:1..5160,1099214717078:1..15221,1099214717079:1..5123,complement(1099214653531:1..10626),complement(1099214715304:1..2483),complement(1099214715303:1..6756),1099214717658:1..15485,complement(1099214284610:1..3297),1099214717659:1..6915,1099214717660:1..18248,1099214715922:1..10248,1099214715923:1..21085,1099214711300:1..18262,1099214614255:1..2406,complement(1099214475936:1..1166),1099214333219:1..2313,1099214721883:1..11454,1099214721884:1..66864,1099214721885:1..14211,1099214721886:1..31850,1099214283347:1..2179,1099214721887:1..12144,1099214721888:1..17129,1099214721889:1..3822,complement(1099214585886:1..3460),1099213939902:1..1455,1099214721890:1..2784,complement(1099214179249:1..4081),complement(1099214619290:1..3493),complement(1099214069890:1..1861),1099214720216:1..6211,1099214720217:1..11898,1099214720218:1..23024,1099214720219:1..15659,complement(1099214394054:1..2234),1099214347319:1..847,complement(1099214111361:1..3061),1099214292340:1..1697,1099213999675:1..4305,1099214720220:1..25087,1099214720221:1..29813,1099214682882:1..4596,1099214720222:1..5591,1099214720223:1..2353)'\n",
      "  % location_line))\n",
      "/Users/jordanzehr/anaconda3/lib/python3.6/site-packages/Bio/GenBank/__init__.py:1143: BiopythonParserWarning: Couldn't parse feature location: 'join(1099214715923:20524..21085,1099214711300:1..18262,1099214614255:1..2406,complement(1099214475936:1..1166),1099214333219:1..2313,1099214721883:1..11454,1099214721884:1..66864,1099214721885:1..14211,1099214721886:1..31850,1099214283347:1..2179,1099214721887:1..12144,1099214721888:1..17129,1099214721889:1..3822,complement(1099214585886:1..3460),1099213939902:1..1455,1099214721890:1..2784,complement(1099214179249:1..4081),complement(1099214619290:1..3493),complement(1099214069890:1..1861),1099214720216:1..6211,1099214720217:1..11898,1099214720218:1..23024,1099214720219:1..15659,complement(1099214394054:1..2234),1099214347319:1..847,complement(1099214111361:1..3061),1099214292340:1..1697,1099213999675:1..4305,1099214720220:1..25087,1099214720221:1..29813,1099214682882:1..4596,1099214720222:1..5591,1099214720223:1..2352)'\n",
      "  % location_line))\n",
      "/Users/jordanzehr/anaconda3/lib/python3.6/site-packages/Bio/GenBank/__init__.py:1143: BiopythonParserWarning: Couldn't parse feature location: 'join(1099214599639:5014..7115,1099214599640:1..29777,complement(1099214305503:1..1900),complement(1099214580189:1..5751),1099213934862:1..5160,1099214717078:1..15221,1099214717079:1..5123,complement(1099214653531:1..10626),complement(1099214715304:1..2483),complement(1099214715303:1..6756),1099214717658:1..15485,complement(1099214284610:1..3297),1099214717659:1..6915,1099214717660:1..18248,1099214715922:1..10248,1099214715923:1..21085,1099214711300:1..18262,1099214614255:1..2406,complement(1099214475936:1..1166),1099214333219:1..2313,1099214721883:1..11454,1099214721884:1..66864,1099214721885:1..14211,1099214721886:1..31850,1099214283347:1..2179,1099214721887:1..12144,1099214721888:1..17129,1099214721889:1..3822,complement(1099214585886:1..3460),1099213939902:1..1455,1099214721890:1..2784,complement(1099214179249:1..4081),complement(1099214619290:1..3493),complement(1099214069890:1..1861),1099214720216:1..6211,1099214720217:1..11898,1099214720218:1..23024,1099214720219:1..15659,complement(1099214394054:1..2234),1099214347319:1..847,complement(1099214111361:1..3061),1099214292340:1..1697,1099213999675:1..4305,1099214720220:1..25087,1099214720221:1..29813,1099214682882:1..4596,1099214720222:1..5591,1099214720223:1..2352)'\n",
      "  % location_line))\n",
      "/Users/jordanzehr/anaconda3/lib/python3.6/site-packages/Bio/GenBank/__init__.py:1143: BiopythonParserWarning: Couldn't parse feature location: 'join(1099214599632:10367..60913,1099214599633:1..3933,1099214599634:1..20913,1099214683737:1..1826,1099214599635:1..10256,1099214599636:1..6014,1099214599637:1..52084,1099214599638:1..13019,1099214599639:1..7115,1099214599640:1..29777,complement(1099214305503:1..1900),complement(1099214580189:1..5751),1099213934862:1..5160,1099214717078:1..15221,1099214717079:1..5123,complement(1099214653531:1..10626),complement(1099214715304:1..2483),complement(1099214715303:1..6756),1099214717658:1..15485,complement(1099214284610:1..3297),1099214717659:1..6915,1099214717660:1..18248,1099214715922:1..10248,1099214715923:1..21085,1099214711300:1..18262,1099214614255:1..2406,complement(1099214475936:1..1166),1099214333219:1..2313,1099214721883:1..11454,1099214721884:1..66864,1099214721885:1..14211,1099214721886:1..31850,1099214283347:1..2179,1099214721887:1..12144,1099214721888:1..17129,1099214721889:1..3822,complement(1099214585886:1..3460),1099213939902:1..1455,1099214721890:1..2784,complement(1099214179249:1..4081),complement(1099214619290:1..3493),complement(1099214069890:1..1861),1099214720216:1..6211,1099214720217:1..11898,1099214720218:1..23024,1099214720219:1..15659,complement(1099214394054:1..2234),1099214347319:1..847,complement(1099214111361:1..3061),1099214292340:1..1697,1099213999675:1..4305,1099214720220:1..25087,1099214720221:1..29813,1099214682882:1..4596,1099214720222:1..5591,1099214720223:1..2352)'\n",
      "  % location_line))\n",
      "/Users/jordanzehr/anaconda3/lib/python3.6/site-packages/Bio/GenBank/__init__.py:1143: BiopythonParserWarning: Couldn't parse feature location: 'join(1099214599640:17880..29777,complement(1099214305503:1..1900),complement(1099214580189:1..5751),1099213934862:1..5160,1099214717078:1..15221,1099214717079:1..5123,complement(1099214653531:1..10626),complement(1099214715304:1..2483),complement(1099214715303:1..6756),1099214717658:1..15485,complement(1099214284610:1..3297),1099214717659:1..6915,1099214717660:1..18248,1099214715922:1..10248,1099214715923:1..21085,1099214711300:1..18262,1099214614255:1..2406,complement(1099214475936:1..1166),1099214333219:1..2313,1099214721883:1..11454,1099214721884:1..66864,1099214721885:1..14211,1099214721886:1..31850,1099214283347:1..2179,1099214721887:1..12144,1099214721888:1..17129,1099214721889:1..3822,complement(1099214585886:1..3460),1099213939902:1..1455,1099214721890:1..2784,complement(1099214179249:1..4081),complement(1099214619290:1..3493),complement(1099214069890:1..1861),1099214720216:1..6211,1099214720217:1..11898,1099214720218:1..23024,1099214720219:1..15659,complement(1099214394054:1..2234),1099214347319:1..847,complement(1099214111361:1..3061),1099214292340:1..1697,1099213999675:1..4305,1099214720220:1..25087,1099214720221:1..29813,1099214682882:1..4596,1099214720222:1..5591,1099214720223:1..2345)'\n",
      "  % location_line))\n",
      "/Users/jordanzehr/anaconda3/lib/python3.6/site-packages/Bio/GenBank/__init__.py:1143: BiopythonParserWarning: Couldn't parse feature location: 'join(1099214599635:7791..10256,1099214599636:1..6014,1099214599637:1..52084,1099214599638:1..13019,1099214599639:1..7115,1099214599640:1..29777,complement(1099214305503:1..1900),complement(1099214580189:1..5751),1099213934862:1..5160,1099214717078:1..15221,1099214717079:1..5123,complement(1099214653531:1..10626),complement(1099214715304:1..2483),complement(1099214715303:1..6756),1099214717658:1..15485,complement(1099214284610:1..3297),1099214717659:1..6915,1099214717660:1..18248,1099214715922:1..10248,1099214715923:1..21085,1099214711300:1..18262,1099214614255:1..2406,complement(1099214475936:1..1166),1099214333219:1..2313,1099214721883:1..11454,1099214721884:1..66864,1099214721885:1..14211,1099214721886:1..31850,1099214283347:1..2179,1099214721887:1..12144,1099214721888:1..17129,1099214721889:1..3822,complement(1099214585886:1..3460),1099213939902:1..1455,1099214721890:1..2784,complement(1099214179249:1..4081),complement(1099214619290:1..3493),complement(1099214069890:1..1861),1099214720216:1..6211,1099214720217:1..11898,1099214720218:1..23024,1099214720219:1..15659,complement(1099214394054:1..2234),1099214347319:1..847,complement(1099214111361:1..3061),1099214292340:1..1697,1099213999675:1..4305,1099214720220:1..25087,1099214720221:1..29813,1099214682882:1..4596,1099214720222:1..5591,1099214720223:1..2344)'\n",
      "  % location_line))\n",
      "/Users/jordanzehr/anaconda3/lib/python3.6/site-packages/Bio/GenBank/__init__.py:1143: BiopythonParserWarning: Couldn't parse feature location: 'join(1099214599632:10207..60913,1099214599633:1..3933,1099214599634:1..20913,1099214683737:1..1826,1099214599635:1..10256,1099214599636:1..6014,1099214599637:1..52084,1099214599638:1..13019,1099214599639:1..7115,1099214599640:1..29777,complement(1099214305503:1..1900),complement(1099214580189:1..5751),1099213934862:1..5160,1099214717078:1..15221,1099214717079:1..5123,complement(1099214653531:1..10626),complement(1099214715304:1..2483),complement(1099214715303:1..6756),1099214717658:1..15485,complement(1099214284610:1..3297),1099214717659:1..6915,1099214717660:1..18248,1099214715922:1..10248,1099214715923:1..21085,1099214711300:1..18262,1099214614255:1..2406,complement(1099214475936:1..1166),1099214333219:1..2313,1099214721883:1..11454,1099214721884:1..66864,1099214721885:1..14211,1099214721886:1..31850,1099214283347:1..2179,1099214721887:1..12144,1099214721888:1..17129,1099214721889:1..3822,complement(1099214585886:1..3460),1099213939902:1..1455,1099214721890:1..2784,complement(1099214179249:1..4081),complement(1099214619290:1..3493),complement(1099214069890:1..1861),1099214720216:1..6211,1099214720217:1..11898,1099214720218:1..23024,1099214720219:1..15659,complement(1099214394054:1..2234),1099214347319:1..847,complement(1099214111361:1..3061),1099214292340:1..1697,1099213999675:1..4305,1099214720220:1..25087,1099214720221:1..29813,1099214682882:1..4596,1099214720222:1..5591,1099214720223:1..2344)'\n",
      "  % location_line))\n",
      "/Users/jordanzehr/anaconda3/lib/python3.6/site-packages/Bio/GenBank/__init__.py:1143: BiopythonParserWarning: Couldn't parse feature location: '1099214720220:13437..16813'\n",
      "  % location_line))\n"
     ]
    }
   ],
   "source": [
    "f = open('data/input/imgt.dat')\n",
    "imgt = list(SeqIO.InsdcIO.ImgtIterator(f))"
   ]
  },
  {
   "cell_type": "markdown",
   "metadata": {},
   "source": [
    "### Each item in this imgt list is a Bio.SeqRecord.SeqRecord. With each of these items you have: \n",
    " 'annotations',\n",
    " 'dbxrefs',\n",
    " 'description',\n",
    " 'features',\n",
    " 'format',\n",
    " 'id',\n",
    " 'letter_annotations',\n",
    " 'lower',\n",
    " 'name',\n",
    " 'reverse_complement',\n",
    " 'seq',\n",
    " 'upper'### "
   ]
  },
  {
   "cell_type": "markdown",
   "metadata": {},
   "source": [
    "### Furthermore, each attibute within one item in the list has its own set of attributes. So, there are elements in a list that have attributes which also have their own set of attributes. \n",
    "\n",
    "Think of a of the item in the list as a donut (the Bio.SeqRecord.SeqRecord), each donut has a seleciton of frosting to choose from (the first set of attributes), and ontop of the frosting you have another set of sprinkles to choose from (which are the attributes associated with the first set of attributes). \n",
    "\n",
    "This list DOES NOT include the set of attributes explicitly associated with python, these are only the attributes associated with the Bio.SeqRecord.SeqRecord object itself.\n",
    "\n",
    "Furthermore, each of the frostings (first layer of attributes) stores the sprinkles (second layer of attributes) as different data structures, THEY ARE NOT ALL UNIFORM. This is important to keep in mind when trying to parse the info.\n",
    "\n",
    "Lastly, it is important to keep in mind that not all of the Bio.SeqRecord.SeqRecord objects have these attributes populated with information. \n",
    "\n",
    "### They sets of attributes are as follows:"
   ]
  },
  {
   "cell_type": "markdown",
   "metadata": {},
   "source": [
    "###  Within `annotations` you have:\n",
    "'capitalize', 'casefold', 'center', 'count', 'encode', 'endswith', 'expandtabs', 'find', 'format', 'format_map', 'index', 'isalnum', 'isalpha', 'isdecimal', 'isdigit', 'isidentifier', 'islower', 'isnumeric', 'isprintable', 'isspace', 'istitle', 'isupper', 'join', 'ljust', 'lower', 'lstrip', 'maketrans', 'partition', 'replace', 'rfind', 'rindex', 'rjust', 'rpartition', 'rsplit', 'rstrip', 'split', 'splitlines', 'startswith', 'strip', 'swapcase', 'title', 'translate', 'upper', 'zfill']"
   ]
  },
  {
   "cell_type": "markdown",
   "metadata": {},
   "source": [
    "### Within `dbxrefs` you have:\n",
    "'capitalize', 'casefold', 'center', 'count', 'encode', 'endswith', 'expandtabs', 'find', 'format', 'format_map', 'index', 'isalnum', 'isalpha', 'isdecimal', 'isdigit', 'isidentifier', 'islower', 'isnumeric', 'isprintable', 'isspace', 'istitle', 'isupper', 'join', 'ljust', 'lower', 'lstrip', 'maketrans', 'partition', 'replace', 'rfind', 'rindex', 'rjust', 'rpartition', 'rsplit', 'rstrip', 'split', 'splitlines', 'startswith', 'strip', 'swapcase', 'title', 'translate', 'upper', 'zfill'"
   ]
  },
  {
   "cell_type": "markdown",
   "metadata": {},
   "source": [
    "### Within `description` you have the name (descriptor) of the sequence."
   ]
  },
  {
   "cell_type": "markdown",
   "metadata": {},
   "source": [
    "### Within `features` you have: (I have found this to be a very useful attribute to filter the information on by setting up logic statements to return the records that have desired information)\n",
    "'extract', 'id', 'location', 'location_operator', 'qualifiers', 'ref', 'ref_db', 'strand', 'type'\n",
    "\n",
    "   record.features is a list. So the frosting (first layer of attributes) here is a list that stores the `qualifiers` sprinkles (second layer of attributes) as a collections.OrderedDict.\n"
   ]
  },
  {
   "cell_type": "markdown",
   "metadata": {},
   "source": [
    "### `format` is a method for the Bio.SeqRecord.SeqRecord"
   ]
  },
  {
   "cell_type": "markdown",
   "metadata": {},
   "source": [
    "### `id` is the accession number associated with the sequence in the Bio.SeqRecord.SeqRecord"
   ]
  },
  {
   "cell_type": "markdown",
   "metadata": {},
   "source": [
    "### `letter_annotations`"
   ]
  },
  {
   "cell_type": "markdown",
   "metadata": {},
   "source": [
    "### `lower` is a method for the Bio.SeqRecord.SeqRecord"
   ]
  },
  {
   "cell_type": "markdown",
   "metadata": {},
   "source": [
    "### `name` is also the accession number associated with the sequence in the Bio.SeqRecord.SeqRecord"
   ]
  },
  {
   "cell_type": "markdown",
   "metadata": {},
   "source": [
    "### `reverse_complement` is a method for the Bio.SeqRecord.SeqRecord"
   ]
  },
  {
   "cell_type": "markdown",
   "metadata": {},
   "source": [
    "### `seq` is a Bio.Seq.Seq of the sequence "
   ]
  },
  {
   "cell_type": "markdown",
   "metadata": {},
   "source": [
    "### `upper` is a method for the Bio.SeqRecord.SeqRecord"
   ]
  },
  {
   "cell_type": "markdown",
   "metadata": {},
   "source": [
    "### Here are a few tester functions that will be useful in extracting IMGT information from the large database "
   ]
  },
  {
   "cell_type": "code",
   "execution_count": 3,
   "metadata": {},
   "outputs": [],
   "source": [
    "def probe_record(record):\n",
    "    for feature in record.features:\n",
    "        j = list(feature.qualifiers.items())\n",
    "        for k in j:\n",
    "            #print(k)\n",
    "            return k\n",
    "        \n",
    "def extract_information(record):\n",
    "    #print(record.features[0].qualifiers['organism'])\n",
    "    #print(record.features[1].qualifiers['allele'])\n",
    "    k = record.features[0].qualifiers['organism']\n",
    "    j = record.features[1].qualifiers['allele']\n",
    "    return k,j\n",
    "    "
   ]
  },
  {
   "cell_type": "markdown",
   "metadata": {},
   "source": [
    "### This function ties everything together and based on the logic will return the records we want for the next step"
   ]
  },
  {
   "cell_type": "code",
   "execution_count": 11,
   "metadata": {},
   "outputs": [],
   "source": [
    "def is_desired_imgt_record(record):\n",
    "    has_organism = 'organism' in record.features[0].qualifiers\n",
    "    has_allele = False\n",
    "    if len(record.features) > 1:\n",
    "        has_allele = 'allele' in record.features[1].qualifiers\n",
    "    good = has_organism and has_allele\n",
    "    return good"
   ]
  },
  {
   "cell_type": "code",
   "execution_count": 13,
   "metadata": {},
   "outputs": [],
   "source": [
    "record = imgt[50000]\n",
    "#results = probe_record(record)\n",
    "#print('these are the results: ' + str(results))\n",
    "#print('\\n----------------------\\n')\n",
    "#results = extract_information(record)\n",
    "#print('these are the results: ' + str(results))\n",
    "#results = is_desired_imgt_record(record)\n",
    "#print('these are the results: ' + str(results))\n",
    "#print('\\n----------------------\\n')\n",
    "desired_records = [record for record in imgt if is_desired_imgt_record(record)]"
   ]
  },
  {
   "cell_type": "code",
   "execution_count": 15,
   "metadata": {},
   "outputs": [
    {
     "name": "stdout",
     "output_type": "stream",
     "text": [
      "type: source\n",
      "location: [0:453](+)\n",
      "qualifiers:\n",
      "    Key: cell_type, Value: ['B-lymphocyte']\n",
      "    Key: chromosome, Value: ['14q']\n",
      "    Key: clone, Value: ['AO05A25']\n",
      "    Key: country, Value: ['Denmark']\n",
      "    Key: db_xref, Value: ['taxon:9606']\n",
      "    Key: mol_type, Value: ['genomic DNA']\n",
      "    Key: organism, Value: ['Homo sapiens']\n",
      "    Key: rearranged, Value: ['']\n",
      "    Key: tissue_type, Value: ['blood']\n",
      "\n",
      "type: CDS\n",
      "location: [<46:>351](+)\n",
      "qualifiers:\n",
      "    Key: allele, Value: ['IGHV3-23*01']\n",
      "    Key: codon_start, Value: ['3']\n",
      "    Key: gene, Value: ['IGHV3-23*01']\n",
      "    Key: product, Value: ['immunoglobulin heavy chain variable region']\n",
      "    Key: protein_id, Value: ['CAL05809.1']\n",
      "    Key: translation, Value: ['VQCEVQLLESGGGLVQPGGSLRLSCAASRFAFSSYGMSWVRQAPGKGLEWVSGISGSGDSTYYADSVKGRFTISRDESKNTLYLQMNSLRAEDTAVYYCAK']\n",
      "\n",
      "type: intron\n",
      "location: [<0:46](+)\n",
      "qualifiers:\n",
      "    Key: allele, Value: ['IGHV3-23*01']\n",
      "    Key: gene, Value: ['IGHV3-23*01']\n",
      "    Key: number, Value: ['1']\n",
      "\n",
      "type: exon\n",
      "location: [46:351](+)\n",
      "qualifiers:\n",
      "    Key: allele, Value: ['IGHV3-23*01']\n",
      "    Key: gene, Value: ['IGHV3-23*01']\n",
      "    Key: number, Value: ['2']\n",
      "\n",
      "type: sig_peptide\n",
      "location: [<46:57](+)\n",
      "qualifiers:\n",
      "    Key: allele, Value: ['IGHV3-23*01']\n",
      "    Key: gene, Value: ['IGHV3-23*01']\n",
      "\n",
      "type: V_segment\n",
      "location: [57:351](+)\n",
      "qualifiers:\n",
      "    Key: gene, Value: ['IGHV3-23*01']\n",
      "\n",
      "type: mat_peptide\n",
      "location: [57:>351](+)\n",
      "qualifiers:\n",
      "    Key: allele, Value: ['IGHV3-23*01']\n",
      "    Key: gene, Value: ['IGHV3-23*01']\n",
      "    Key: product, Value: ['immunoglobulin heavy chain variable region']\n",
      "\n",
      "type: N_region\n",
      "location: [351:369](+)\n",
      "qualifiers:\n",
      "\n",
      "type: J_segment\n",
      "location: [369:424](+)\n",
      "qualifiers:\n",
      "    Key: allele, Value: ['IGHJ6*02']\n",
      "\n",
      "type: intron\n",
      "location: [424:>453](+)\n",
      "qualifiers:\n",
      "    Key: allele, Value: ['IGHV3-23*01']\n",
      "    Key: gene, Value: ['IGHV3-23*01']\n",
      "    Key: number, Value: ['2']\n",
      "\n"
     ]
    }
   ],
   "source": [
    "record = imgt[50000]\n",
    "for i in record.features:\n",
    "    print(i)"
   ]
  },
  {
   "cell_type": "code",
   "execution_count": 14,
   "metadata": {},
   "outputs": [
    {
     "data": {
      "text/plain": [
       "8504"
      ]
     },
     "execution_count": 14,
     "metadata": {},
     "output_type": "execute_result"
    }
   ],
   "source": [
    "len(desired_records)"
   ]
  },
  {
   "cell_type": "code",
   "execution_count": 9,
   "metadata": {},
   "outputs": [
    {
     "name": "stdout",
     "output_type": "stream",
     "text": [
      "<class 'Bio.SeqRecord.SeqRecord'>\n",
      "ID: AABR03032039.1\n",
      "Name: AABR03032039\n",
      "Description: Rattus norvegicus chromosome 4 clone CH230-190F6; CH230-250G6; CH230-138G6; CH230-10H13; CH230-44K24; CH230-170D2; CH230-165E3; CH230-4A4; CH230-2E12; CH230-61F18; CH230-25J13; CH230-48O3; CH230-182N13; CH230-223L15; CH230-7H12; CH230-269I20; CH230-252J14; CH230-249M2; CH230-87K18 strain BN/SsNHsdMCW RNOR03284363, whole genome shotgun sequence.\n",
      "Database cross-references: EMBL-CON:CM000075, ENA:AABR000000000, ENA:AABR030000000\n",
      "Number of features: 185\n",
      "/accessions=['AABR03032039', 'AABR03000000']\n",
      "/sequence_version=1\n",
      "/topology=linear\n",
      "/molecule_type=gDNA\n",
      "/data_file_division=ROD\n",
      "/keywords=['antigen receptor', 'Immunoglobulin superfamily (IgSF)', 'immunoglobulin (IG)', 'IG-Light', 'IG-Light-Kappa-IGK', 'IMGT reference sequence', 'regular', 'gDNA', 'germline']\n",
      "/organism=Rattus norvegicus (Norway rat)\n",
      "/taxonomy=['cellular organisms', 'Eukaryota', 'Opisthokonta', 'Metazoa', 'Eumetazoa', 'Bilateria', 'Deuterostomia', 'Chordata', 'Craniata', 'Vertebrata', 'Gnathostomata', 'Teleostomi', 'Euteleostomi', 'Sarcopterygii', 'Dipnotetrapodomorpha', 'Tetrapoda', 'Amniota', 'Mammalia', 'Theria', 'Eutheria', 'Boreoeutheria', 'Euarchontoglires', 'Glires', 'Rodentia', 'Sciurognathi', 'Muroidea', 'Muridae', 'Murinae', 'Rattus', 'Rattus norvegicus']\n",
      "/references=[Reference(title=';', ...), Reference(title=';', ...)]\n",
      "/comment=IMGT/LIGM-DB annotation level: by annotators\n",
      "Seq('NNNNNNNNNNNNNANNNNNANNNNNNNNNNNNNNNNNNNNNNNNNNNNNTACAA...NNN', IUPACAmbiguousDNA())\n"
     ]
    }
   ],
   "source": [
    "for i in desired_records[0:1]:\n",
    "    print(type(i))\n",
    "    print(i)"
   ]
  },
  {
   "cell_type": "code",
   "execution_count": null,
   "metadata": {},
   "outputs": [],
   "source": []
  }
 ],
 "metadata": {
  "kernelspec": {
   "display_name": "Python 3",
   "language": "python",
   "name": "python3"
  },
  "language_info": {
   "codemirror_mode": {
    "name": "ipython",
    "version": 3
   },
   "file_extension": ".py",
   "mimetype": "text/x-python",
   "name": "python",
   "nbconvert_exporter": "python",
   "pygments_lexer": "ipython3",
   "version": "3.6.6"
  }
 },
 "nbformat": 4,
 "nbformat_minor": 2
}
